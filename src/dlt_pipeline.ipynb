{
 "cells": [
  {
   "cell_type": "markdown",
   "metadata": {
    "application/vnd.databricks.v1+cell": {
     "cellMetadata": {},
     "inputWidgets": {},
     "nuid": "9a626959-61c8-4bba-84d2-2a4ecab1f7ec",
     "showTitle": false,
     "title": ""
    }
   },
   "source": [
    "# DLT pipeline\n",
    "\n",
    "This Delta Live Tables (DLT) definition is executed using a pipeline defined in resources/umpqua_poc_dlt_pipeline.yml."
   ]
  },
  {
   "cell_type": "code",
   "execution_count": 11,
   "metadata": {
    "application/vnd.databricks.v1+cell": {
     "cellMetadata": {},
     "inputWidgets": {},
     "nuid": "9198e987-5606-403d-9f6d-8f14e6a4017f",
     "showTitle": false,
     "title": ""
    }
   },
   "outputs": [],
   "source": [
    "# Import DLT and src/umpqua_poc_dlt\n",
    "# import dlt\n",
    "import sys\n",
    "import configparser\n",
    "import ast\n",
    "\n",
    "from pyspark.sql import SparkSession, DataFrame\n",
    "from pyspark.sql.functions import *\n",
    "from pyspark.sql.types import *\n",
    "from umpqua_poc_dlt.umpqua_dlt import bronze_with_dlt"
   ]
  },
  {
   "cell_type": "code",
   "execution_count": 14,
   "metadata": {},
   "outputs": [],
   "source": [
    "# Read \"manage_uc_objects_config.ini\" & parse configs\n",
    "dlt_config_path = \"./umpqua_poc_dlt/umpqua_dlt_config.ini\"\n",
    "dlt_config = configparser.ConfigParser()\n",
    "dlt_config.read(dlt_config_path)\n",
    "\n",
    "config = ast.literal_eval(dlt_config[\"dlt_config\"][\"config\"])\n",
    "\n",
    "spark = SparkSession.builder.getOrCreate()"
   ]
  },
  {
   "cell_type": "code",
   "execution_count": null,
   "metadata": {},
   "outputs": [],
   "source": [
    "def generate_table(live_table):\n",
    "    @dlt.table(\n",
    "        name= live_table[\"name\"],\n",
    "        comment= \"Raw custom data capture for \" + live_table[\"name\"],\n",
    "        table_properties= live_table[\"table_properties\"]\n",
    "    )\n",
    "    def create_live_table():\n",
    "        return bronze_with_dlt(spark,live_table[\"source\"],live_table[\"options\"])\n",
    " \n",
    "[generate_table(table) for table in config]"
   ]
  }
 ],
 "metadata": {
  "application/vnd.databricks.v1+notebook": {
   "dashboards": [],
   "language": "python",
   "notebookMetadata": {
    "pythonIndentUnit": 2
   },
   "notebookName": "dlt_pipeline",
   "widgets": {}
  },
  "kernelspec": {
   "display_name": "Python 3",
   "language": "python",
   "name": "python3"
  },
  "language_info": {
   "codemirror_mode": {
    "name": "ipython",
    "version": 3
   },
   "file_extension": ".py",
   "mimetype": "text/x-python",
   "name": "python",
   "nbconvert_exporter": "python",
   "pygments_lexer": "ipython3",
   "version": "3.10.13"
  }
 },
 "nbformat": 4,
 "nbformat_minor": 0
}
